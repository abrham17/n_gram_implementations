{
  "nbformat": 4,
  "nbformat_minor": 0,
  "metadata": {
    "colab": {
      "provenance": [],
      "gpuType": "V28",
      "authorship_tag": "ABX9TyMIPB7xMnd6XBFkO11MR+JR",
      "include_colab_link": true
    },
    "kernelspec": {
      "name": "python3",
      "display_name": "Python 3"
    },
    "language_info": {
      "name": "python"
    },
    "accelerator": "TPU"
  },
  "cells": [
    {
      "cell_type": "markdown",
      "metadata": {
        "id": "view-in-github",
        "colab_type": "text"
      },
      "source": [
        "<a href=\"https://colab.research.google.com/github/abrham17/n_gram_implementations/blob/main/n_gram.ipynb\" target=\"_parent\"><img src=\"https://colab.research.google.com/assets/colab-badge.svg\" alt=\"Open In Colab\"/></a>"
      ]
    },
    {
      "cell_type": "code",
      "source": [
        "import gdown\n",
        "import re"
      ],
      "metadata": {
        "id": "yhU-TdgJeMUb"
      },
      "execution_count": null,
      "outputs": []
    },
    {
      "cell_type": "code",
      "source": [
        "import gdown\n",
        "import re\n",
        "def download_file(text_link = None):\n",
        "        file_id = text_link.split(\"/d/\")[1].split(\"/\")[0]\n",
        "        download_link = f\"https://drive.google.com/uc?export=download&id={file_id}\"\n",
        "        output_file = \"corpus.txt\"\n",
        "        gdown.download(download_link, output_file, quiet=False)\n",
        "\n",
        "def corpus_ngram(n , stop_word=None):\n",
        "    try:\n",
        "        output_file = \"corpus.txt\"\n",
        "        with open(output_file, \"r\", encoding=\"utf-8\") as f:\n",
        "            text = f.read()\n",
        "        words = re.split(r'(\\W+)', text.strip())\n",
        "        words = [w for w in words if w.strip()]\n",
        "\n",
        "        if stop_word is not None:\n",
        "            words = [word for word in words if word not in stop_word.keys()]\n",
        "        return [tuple(words[i:i + n]) for i in range(len(words) - n + 1)]\n",
        "\n",
        "    except Exception as e:\n",
        "        print(f\"Exception: {e}\")\n",
        "\n"
      ],
      "metadata": {
        "id": "093Ltqb8lpKm"
      },
      "execution_count": null,
      "outputs": []
    },
    {
      "cell_type": "code",
      "source": [
        "from collections import Counter\n",
        "\n",
        "def calculate_probability(ngrams = 'unigram' , amount=10):\n",
        "    return dict(sorted(((ngram, count / len(ngrams)) for ngram, count in Counter(ngrams).items()),key=lambda item: item[1], reverse=True)[:amount])\n",
        "\n"
      ],
      "metadata": {
        "id": "A-BrpFe4P_Tw"
      },
      "execution_count": null,
      "outputs": []
    },
    {
      "cell_type": "code",
      "source": [
        "'''\n",
        "def calculate_probability_bigrams():\n",
        "    return dict(sorted(((ngram[0], count / len(bigrams)) for ngram, count in Counter(bigrams).items()),key=lambda item: item[1], reverse=True)[:10])\n",
        "\n",
        "calculate_probability_bigrams()\n",
        "'''"
      ],
      "metadata": {
        "id": "1O9zlNyLbEgf"
      },
      "execution_count": null,
      "outputs": []
    },
    {
      "cell_type": "code",
      "source": [
        "def remove_common_stop_word():\n",
        "  unigram = corpus_ngram(1)\n",
        "  stop_words = calculate_probability(unigram , 5)\n",
        "  return stop_words\n",
        "\n",
        "def recompute_bigram_trigram():\n",
        "  stop_words = remove_common_stop_word()\n",
        "  bigrams = corpus_ngram( 2 , stop_words)\n",
        "  threegrams = corpus_ngram( 3 , stop_words)\n",
        "  return calculate_probability(bigrams) , calculate_probability(threegrams)\n",
        "recompute_bigram_trigram()\n"
      ],
      "metadata": {
        "id": "YY9TrvQmy0xM"
      },
      "execution_count": null,
      "outputs": []
    },
    {
      "cell_type": "code",
      "source": [
        "def word_clouds(stopwords=None):\n",
        "  pass\n",
        "\n",
        "stop_words = remove_common_stop_word()\n",
        "word_clouds(stop_words)\n",
        "word_clouds()"
      ],
      "metadata": {
        "id": "cM5pfLb2ChgO"
      },
      "execution_count": null,
      "outputs": []
    },
    {
      "cell_type": "code",
      "source": [
        "word_pro = \"ኢትዮጵያ ታሪካዊ ሀገር ናት\"\n",
        "#corpus_ngram(\"https://drive.google.com/file/d/1WnuCIeZglWU0uty8-uMOBwOWQM-zAHBJ/view?usp=sharing\", 2 , stop_words)\n",
        "def calcualte_pro_of_specfic_word(word):\n",
        "  word_count = word.split(\" \")\n",
        "  ngrams = corpus_ngram(len(word_count))\n",
        "  counts = Counter(ngrams)\n",
        "  return counts[tuple(word_pro)] / len(ngrams)\n",
        "calcualte_pro_of_specfic_word(word_pro)"
      ],
      "metadata": {
        "id": "krkg0YFSEdpB"
      },
      "execution_count": null,
      "outputs": []
    },
    {
      "cell_type": "code",
      "source": [
        "def generate_random_sentence(n_gram = 1 , number_of_words=10):\n",
        "  ngram = corpus_ngram(n_gram)\n",
        "  words_highest_pro = calculate_probability(ngram , number_of_words)\n",
        "  return \" \".join(words_highest_pro.keys())\n",
        "generate_random_sentence(3)"
      ],
      "metadata": {
        "id": "iqNU_PB1MjPC"
      },
      "execution_count": null,
      "outputs": []
    }
  ]
}